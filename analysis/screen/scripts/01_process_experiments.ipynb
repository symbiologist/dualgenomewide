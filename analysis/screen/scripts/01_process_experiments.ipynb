{
 "cells": [
  {
   "cell_type": "markdown",
   "metadata": {},
   "source": [
    "## Process all counts for experiments to enrichment scores"
   ]
  },
  {
   "cell_type": "code",
   "execution_count": 1,
   "metadata": {},
   "outputs": [],
   "source": [
    "import os\n",
    "os.chdir('/media/data4/shared/ipsc_manuscript/')"
   ]
  },
  {
   "cell_type": "code",
   "execution_count": 2,
   "metadata": {},
   "outputs": [
    {
     "name": "stdout",
     "output_type": "stream",
     "text": [
      "usage: process_experiments.py [-h] [--plot_extension PLOT_EXTENSION]\n",
      "                              Config_File Library_File_Directory\n",
      "\n",
      "Calculate sgRNA- and gene-level phenotypes based on sequencing read counts, as\n",
      "specified by the experiment config file.\n",
      "\n",
      "positional arguments:\n",
      "  Config_File           Experiment config file specifying screen analysis\n",
      "                        settings (see accomapnying BLANK and DEMO files).\n",
      "  Library_File_Directory\n",
      "                        Directory containing reference library tables and the\n",
      "                        library_config.txt file.\n",
      "\n",
      "optional arguments:\n",
      "  -h, --help            show this help message and exit\n",
      "  --plot_extension PLOT_EXTENSION\n",
      "                        Image extension for plot files, or \"off\". Default is\n",
      "                        png.\n"
     ]
    }
   ],
   "source": [
    "run analysis/screen/input/ScreenProcessing/process_experiments.py -h"
   ]
  },
  {
   "cell_type": "markdown",
   "metadata": {},
   "source": [
    "## Important package versions"
   ]
  },
  {
   "cell_type": "code",
   "execution_count": 3,
   "metadata": {},
   "outputs": [
    {
     "name": "stdout",
     "output_type": "stream",
     "text": [
      "0.20.3\n"
     ]
    }
   ],
   "source": [
    "import pandas as pd\n",
    "print(pd.__version__)"
   ]
  },
  {
   "cell_type": "code",
   "execution_count": 4,
   "metadata": {},
   "outputs": [
    {
     "data": {
      "text/plain": [
       "'1.15.1'"
      ]
     },
     "execution_count": 4,
     "metadata": {},
     "output_type": "execute_result"
    }
   ],
   "source": [
    "import numpy as np\n",
    "np.version.version"
   ]
  },
  {
   "cell_type": "markdown",
   "metadata": {},
   "source": [
    "# Differentiation"
   ]
  },
  {
   "cell_type": "markdown",
   "metadata": {},
   "source": [
    "## Coding"
   ]
  },
  {
   "cell_type": "code",
   "execution_count": 5,
   "metadata": {},
   "outputs": [
    {
     "name": "stdout",
     "output_type": "stream",
     "text": [
      "No growth values--all phenotypes will be reported as log2enrichments\n",
      "\n",
      "Accessing library information\n",
      "Loading counts data\n",
      "Merging experiment counts split across lanes/indexes\n",
      "Computing sgRNA phenotype scores\n",
      "Averaging replicates\n",
      "Generating a pseudogene distribution from negative controls\n",
      "Computing gene scores\n",
      "--calculate_ave\n",
      "--calculate_mw\n",
      "Collapsing transcript scores to gene scores\n",
      "Done!\n"
     ]
    }
   ],
   "source": [
    "run analysis/screen/input/ScreenProcessing/process_experiments.py \\\n",
    "analysis/screen/output/01_process_experiments/config/Differentiation_Coding.txt \\\n",
    "analysis/screen/input/ScreenProcessing/library_tables \\\n",
    "--plot_extension \"off\""
   ]
  },
  {
   "cell_type": "markdown",
   "metadata": {},
   "source": [
    "## lncRNA: CRiNCL"
   ]
  },
  {
   "cell_type": "code",
   "execution_count": 6,
   "metadata": {},
   "outputs": [
    {
     "name": "stdout",
     "output_type": "stream",
     "text": [
      "No growth values--all phenotypes will be reported as log2enrichments\n",
      "\n",
      "Accessing library information\n",
      "Loading counts data\n",
      "Merging experiment counts split across lanes/indexes\n",
      "Computing sgRNA phenotype scores\n",
      "Averaging replicates\n",
      "Generating a pseudogene distribution from negative controls\n",
      "Computing gene scores\n",
      "--calculate_ave\n",
      "--calculate_mw\n",
      "Collapsing transcript scores to gene scores\n",
      "Done!\n"
     ]
    }
   ],
   "source": [
    "run analysis/screen/input/ScreenProcessing/process_experiments.py \\\n",
    "analysis/screen/output/01_process_experiments/config/Differentiation_CRiNCL.txt \\\n",
    "analysis/screen/input/ScreenProcessing/library_tables \\\n",
    "--plot_extension \"off\""
   ]
  },
  {
   "cell_type": "markdown",
   "metadata": {},
   "source": [
    "## lncRNA: Common"
   ]
  },
  {
   "cell_type": "code",
   "execution_count": 7,
   "metadata": {},
   "outputs": [
    {
     "name": "stdout",
     "output_type": "stream",
     "text": [
      "No growth values--all phenotypes will be reported as log2enrichments\n",
      "\n",
      "Accessing library information\n",
      "Loading counts data\n",
      "Merging experiment counts split across lanes/indexes\n",
      "Computing sgRNA phenotype scores\n",
      "Averaging replicates\n",
      "Generating a pseudogene distribution from negative controls\n",
      "Computing gene scores\n",
      "--calculate_ave\n",
      "--calculate_mw\n",
      "Collapsing transcript scores to gene scores\n",
      "Done!\n"
     ]
    }
   ],
   "source": [
    "run analysis/screen/input/ScreenProcessing/process_experiments.py \\\n",
    "analysis/screen/output/01_process_experiments/config/Differentiation_Common.txt \\\n",
    "analysis/screen/input/ScreenProcessing/library_tables \\\n",
    "--plot_extension \"off\""
   ]
  },
  {
   "cell_type": "markdown",
   "metadata": {},
   "source": [
    "# Proliferation"
   ]
  },
  {
   "cell_type": "markdown",
   "metadata": {},
   "source": [
    "## Coding"
   ]
  },
  {
   "cell_type": "code",
   "execution_count": 8,
   "metadata": {},
   "outputs": [
    {
     "name": "stdout",
     "output_type": "stream",
     "text": [
      "\n",
      "Accessing library information\n",
      "Loading counts data\n",
      "Merging experiment counts split across lanes/indexes\n",
      "Computing sgRNA phenotype scores\n",
      "Averaging replicates\n",
      "Generating a pseudogene distribution from negative controls\n",
      "Computing gene scores\n",
      "--calculate_ave\n",
      "--calculate_mw\n",
      "Collapsing transcript scores to gene scores\n",
      "Done!\n"
     ]
    }
   ],
   "source": [
    "run analysis/screen/input/ScreenProcessing/process_experiments.py \\\n",
    "analysis/screen/output/01_process_experiments/config/Proliferation_Coding.txt \\\n",
    "analysis/screen/input/ScreenProcessing/library_tables \\\n",
    "--plot_extension \"off\""
   ]
  },
  {
   "cell_type": "markdown",
   "metadata": {},
   "source": [
    "## lncRNA: CRiNCL"
   ]
  },
  {
   "cell_type": "code",
   "execution_count": 9,
   "metadata": {},
   "outputs": [
    {
     "name": "stdout",
     "output_type": "stream",
     "text": [
      "\n",
      "Accessing library information\n",
      "Loading counts data\n",
      "Merging experiment counts split across lanes/indexes\n",
      "Computing sgRNA phenotype scores\n",
      "Averaging replicates\n",
      "Generating a pseudogene distribution from negative controls\n",
      "Computing gene scores\n",
      "--calculate_ave\n",
      "--calculate_mw\n",
      "Collapsing transcript scores to gene scores\n",
      "Done!\n"
     ]
    }
   ],
   "source": [
    "run analysis/screen/input/ScreenProcessing/process_experiments.py \\\n",
    "analysis/screen/output/01_process_experiments/config/Proliferation_CRiNCL.txt \\\n",
    "analysis/screen/input/ScreenProcessing/library_tables \\\n",
    "--plot_extension \"off\""
   ]
  },
  {
   "cell_type": "markdown",
   "metadata": {},
   "source": [
    "## lncRNA: Common"
   ]
  },
  {
   "cell_type": "code",
   "execution_count": 10,
   "metadata": {},
   "outputs": [
    {
     "name": "stdout",
     "output_type": "stream",
     "text": [
      "\n",
      "Accessing library information\n",
      "Loading counts data\n",
      "Merging experiment counts split across lanes/indexes\n",
      "Computing sgRNA phenotype scores\n",
      "Averaging replicates\n",
      "Generating a pseudogene distribution from negative controls\n",
      "Computing gene scores\n",
      "--calculate_ave\n",
      "--calculate_mw\n",
      "Collapsing transcript scores to gene scores\n",
      "Done!\n"
     ]
    }
   ],
   "source": [
    "run analysis/screen/input/ScreenProcessing/process_experiments.py \\\n",
    "analysis/screen/output/01_process_experiments/config/Proliferation_Common.txt \\\n",
    "analysis/screen/input/ScreenProcessing/library_tables \\\n",
    "--plot_extension \"off\""
   ]
  },
  {
   "cell_type": "code",
   "execution_count": 11,
   "metadata": {},
   "outputs": [
    {
     "name": "stdout",
     "output_type": "stream",
     "text": [
      "\n",
      "Accessing library information\n",
      "Loading counts data\n",
      "Merging experiment counts split across lanes/indexes\n",
      "Computing sgRNA phenotype scores\n",
      "Averaging replicates\n",
      "Generating a pseudogene distribution from negative controls\n",
      "Computing gene scores\n",
      "--calculate_ave\n",
      "--calculate_mw\n",
      "Collapsing transcript scores to gene scores\n",
      "Done!\n"
     ]
    }
   ],
   "source": [
    "run analysis/screen/input/ScreenProcessing/process_experiments.py \\\n",
    "analysis/screen/output/01_process_experiments/config/Proliferation_Common_validation.txt \\\n",
    "analysis/screen/input/ScreenProcessing/library_tables \\\n",
    "--plot_extension \"off\""
   ]
  },
  {
   "cell_type": "code",
   "execution_count": null,
   "metadata": {},
   "outputs": [],
   "source": []
  }
 ],
 "metadata": {
  "kernelspec": {
   "display_name": "Python 2",
   "language": "python",
   "name": "python2"
  },
  "language_info": {
   "codemirror_mode": {
    "name": "ipython",
    "version": 2
   },
   "file_extension": ".py",
   "mimetype": "text/x-python",
   "name": "python",
   "nbconvert_exporter": "python",
   "pygments_lexer": "ipython2",
   "version": "2.7.17"
  }
 },
 "nbformat": 4,
 "nbformat_minor": 4
}
